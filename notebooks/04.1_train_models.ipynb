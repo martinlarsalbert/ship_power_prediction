{
 "cells": [
  {
   "cell_type": "markdown",
   "metadata": {},
   "source": [
    "# Batch train models"
   ]
  },
  {
   "cell_type": "markdown",
   "metadata": {},
   "source": [
    "# Purpose\n",
    "Train a batch of models on the same dataset, same train/test and cross validation"
   ]
  },
  {
   "cell_type": "markdown",
   "metadata": {},
   "source": [
    "# Methodology\n",
    "* Run the [03.1_train_model.ipynb](03.1_train_model.ipynb) for each model.\n",
    "* model, model score etc. is logged with [mlflow](https://mlflow.org/)."
   ]
  },
  {
   "cell_type": "markdown",
   "metadata": {},
   "source": [
    "# Setup"
   ]
  },
  {
   "cell_type": "code",
   "execution_count": 30,
   "metadata": {},
   "outputs": [
    {
     "name": "stdout",
     "output_type": "stream",
     "text": [
      "The autoreload extension is already loaded. To reload it, use:\n",
      "  %reload_ext autoreload\n"
     ]
    }
   ],
   "source": [
    "# %load imports.py\n",
    "from typing import no_type_check\n",
    "%matplotlib inline\n",
    "%load_ext autoreload\n",
    "%autoreload 2\n",
    "\n",
    "import os\n",
    "import pandas as pd\n",
    "import numpy as np\n",
    "import matplotlib.pyplot as plt\n",
    "import seaborn as sns\n",
    "import sympy as sp\n"
   ]
  },
  {
   "cell_type": "code",
   "execution_count": 31,
   "metadata": {},
   "outputs": [],
   "source": [
    "import papermill as pm\n",
    "\n",
    "import sys\n",
    "from src.logger import logger\n",
    "import src.mlflow_utils"
   ]
  },
  {
   "cell_type": "markdown",
   "metadata": {},
   "source": [
    "## Batch run"
   ]
  },
  {
   "cell_type": "code",
   "execution_count": 34,
   "metadata": {},
   "outputs": [],
   "source": [
    "def create_output_path(parameters, artifact_dir = 'artifacts'):\n",
    "    \n",
    "    if not os.path.exists(artifact_dir):\n",
    "        os.mkdir(artifact_dir)\n",
    "    \n",
    "    rolling_str = 'rolling' if parameters['rolling_cv'] else 'random'\n",
    "    output_name = create_run_name(parameters=parameters)\n",
    "    output_path = os.path.join(artifact_dir,f'{output_name}.ipynb')\n",
    "    return output_path\n",
    "\n",
    "def create_run_name(parameters):\n",
    "    \n",
    "    rolling_str = 'rolling' if parameters['rolling_cv'] else 'random'\n",
    "    name = f'{parameters[\"model_name\"]}_{rolling_str}_{parameters[\"test_size\"]}'\n",
    "    return name\n",
    "    \n",
    "    "
   ]
  },
  {
   "cell_type": "code",
   "execution_count": 35,
   "metadata": {},
   "outputs": [
    {
     "data": {
      "text/html": [
       "<div>\n",
       "<style scoped>\n",
       "    .dataframe tbody tr th:only-of-type {\n",
       "        vertical-align: middle;\n",
       "    }\n",
       "\n",
       "    .dataframe tbody tr th {\n",
       "        vertical-align: top;\n",
       "    }\n",
       "\n",
       "    .dataframe thead th {\n",
       "        text-align: right;\n",
       "    }\n",
       "</style>\n",
       "<table border=\"1\" class=\"dataframe\">\n",
       "  <thead>\n",
       "    <tr style=\"text-align: right;\">\n",
       "      <th></th>\n",
       "      <th>experiment</th>\n",
       "      <th>model_name</th>\n",
       "      <th>data_path</th>\n",
       "      <th>n_splits</th>\n",
       "      <th>n_repeats</th>\n",
       "      <th>rolling</th>\n",
       "      <th>test_size</th>\n",
       "      <th>input_path</th>\n",
       "      <th>output_path</th>\n",
       "      <th>rolling_cv</th>\n",
       "      <th>rolling_test</th>\n",
       "      <th>run_name</th>\n",
       "    </tr>\n",
       "  </thead>\n",
       "  <tbody>\n",
       "    <tr>\n",
       "      <th>0</th>\n",
       "      <td>random_fit</td>\n",
       "      <td>polynomial</td>\n",
       "      <td>../../data/processed/data_extended.csv</td>\n",
       "      <td>6</td>\n",
       "      <td>1</td>\n",
       "      <td>True</td>\n",
       "      <td>0.1</td>\n",
       "      <td>pipeline/03.1_train_model.ipynb</td>\n",
       "      <td>artifacts\\polynomial_rolling_0.1.ipynb</td>\n",
       "      <td>1.0</td>\n",
       "      <td>1.0</td>\n",
       "      <td>polynomial_rolling_0.1</td>\n",
       "    </tr>\n",
       "    <tr>\n",
       "      <th>1</th>\n",
       "      <td>random_fit</td>\n",
       "      <td>polynomial</td>\n",
       "      <td>../../data/processed/data_extended.csv</td>\n",
       "      <td>6</td>\n",
       "      <td>1</td>\n",
       "      <td>True</td>\n",
       "      <td>0.1</td>\n",
       "      <td>pipeline/03.1_train_model.ipynb</td>\n",
       "      <td>artifacts\\polynomial_random_0.1.ipynb</td>\n",
       "      <td>0.0</td>\n",
       "      <td>1.0</td>\n",
       "      <td>polynomial_random_0.1</td>\n",
       "    </tr>\n",
       "    <tr>\n",
       "      <th>2</th>\n",
       "      <td>random_fit</td>\n",
       "      <td>polynomial</td>\n",
       "      <td>../../data/processed/data_extended.csv</td>\n",
       "      <td>6</td>\n",
       "      <td>1</td>\n",
       "      <td>True</td>\n",
       "      <td>0.2</td>\n",
       "      <td>pipeline/03.1_train_model.ipynb</td>\n",
       "      <td>artifacts\\polynomial_rolling_0.2.ipynb</td>\n",
       "      <td>1.0</td>\n",
       "      <td>1.0</td>\n",
       "      <td>polynomial_rolling_0.2</td>\n",
       "    </tr>\n",
       "    <tr>\n",
       "      <th>3</th>\n",
       "      <td>random_fit</td>\n",
       "      <td>polynomial</td>\n",
       "      <td>../../data/processed/data_extended.csv</td>\n",
       "      <td>6</td>\n",
       "      <td>1</td>\n",
       "      <td>True</td>\n",
       "      <td>0.2</td>\n",
       "      <td>pipeline/03.1_train_model.ipynb</td>\n",
       "      <td>artifacts\\polynomial_random_0.2.ipynb</td>\n",
       "      <td>0.0</td>\n",
       "      <td>1.0</td>\n",
       "      <td>polynomial_random_0.2</td>\n",
       "    </tr>\n",
       "    <tr>\n",
       "      <th>4</th>\n",
       "      <td>random_fit</td>\n",
       "      <td>polynomial</td>\n",
       "      <td>../../data/processed/data_extended.csv</td>\n",
       "      <td>6</td>\n",
       "      <td>1</td>\n",
       "      <td>True</td>\n",
       "      <td>0.3</td>\n",
       "      <td>pipeline/03.1_train_model.ipynb</td>\n",
       "      <td>artifacts\\polynomial_rolling_0.3.ipynb</td>\n",
       "      <td>1.0</td>\n",
       "      <td>1.0</td>\n",
       "      <td>polynomial_rolling_0.3</td>\n",
       "    </tr>\n",
       "    <tr>\n",
       "      <th>5</th>\n",
       "      <td>random_fit</td>\n",
       "      <td>polynomial</td>\n",
       "      <td>../../data/processed/data_extended.csv</td>\n",
       "      <td>6</td>\n",
       "      <td>1</td>\n",
       "      <td>True</td>\n",
       "      <td>0.3</td>\n",
       "      <td>pipeline/03.1_train_model.ipynb</td>\n",
       "      <td>artifacts\\polynomial_random_0.3.ipynb</td>\n",
       "      <td>0.0</td>\n",
       "      <td>1.0</td>\n",
       "      <td>polynomial_random_0.3</td>\n",
       "    </tr>\n",
       "    <tr>\n",
       "      <th>6</th>\n",
       "      <td>random_fit</td>\n",
       "      <td>SVR</td>\n",
       "      <td>../../data/processed/data_extended.csv</td>\n",
       "      <td>6</td>\n",
       "      <td>1</td>\n",
       "      <td>True</td>\n",
       "      <td>0.1</td>\n",
       "      <td>pipeline/03.3_train_SVR.ipynb</td>\n",
       "      <td>artifacts\\SVR_rolling_0.1.ipynb</td>\n",
       "      <td>1.0</td>\n",
       "      <td>1.0</td>\n",
       "      <td>SVR_rolling_0.1</td>\n",
       "    </tr>\n",
       "    <tr>\n",
       "      <th>7</th>\n",
       "      <td>random_fit</td>\n",
       "      <td>SVR</td>\n",
       "      <td>../../data/processed/data_extended.csv</td>\n",
       "      <td>6</td>\n",
       "      <td>1</td>\n",
       "      <td>True</td>\n",
       "      <td>0.1</td>\n",
       "      <td>pipeline/03.3_train_SVR.ipynb</td>\n",
       "      <td>artifacts\\SVR_random_0.1.ipynb</td>\n",
       "      <td>0.0</td>\n",
       "      <td>1.0</td>\n",
       "      <td>SVR_random_0.1</td>\n",
       "    </tr>\n",
       "    <tr>\n",
       "      <th>8</th>\n",
       "      <td>random_fit</td>\n",
       "      <td>SVR</td>\n",
       "      <td>../../data/processed/data_extended.csv</td>\n",
       "      <td>6</td>\n",
       "      <td>1</td>\n",
       "      <td>True</td>\n",
       "      <td>0.2</td>\n",
       "      <td>pipeline/03.3_train_SVR.ipynb</td>\n",
       "      <td>artifacts\\SVR_rolling_0.2.ipynb</td>\n",
       "      <td>1.0</td>\n",
       "      <td>1.0</td>\n",
       "      <td>SVR_rolling_0.2</td>\n",
       "    </tr>\n",
       "    <tr>\n",
       "      <th>9</th>\n",
       "      <td>random_fit</td>\n",
       "      <td>SVR</td>\n",
       "      <td>../../data/processed/data_extended.csv</td>\n",
       "      <td>6</td>\n",
       "      <td>1</td>\n",
       "      <td>True</td>\n",
       "      <td>0.2</td>\n",
       "      <td>pipeline/03.3_train_SVR.ipynb</td>\n",
       "      <td>artifacts\\SVR_random_0.2.ipynb</td>\n",
       "      <td>0.0</td>\n",
       "      <td>1.0</td>\n",
       "      <td>SVR_random_0.2</td>\n",
       "    </tr>\n",
       "    <tr>\n",
       "      <th>10</th>\n",
       "      <td>random_fit</td>\n",
       "      <td>SVR</td>\n",
       "      <td>../../data/processed/data_extended.csv</td>\n",
       "      <td>6</td>\n",
       "      <td>1</td>\n",
       "      <td>True</td>\n",
       "      <td>0.3</td>\n",
       "      <td>pipeline/03.3_train_SVR.ipynb</td>\n",
       "      <td>artifacts\\SVR_rolling_0.3.ipynb</td>\n",
       "      <td>1.0</td>\n",
       "      <td>1.0</td>\n",
       "      <td>SVR_rolling_0.3</td>\n",
       "    </tr>\n",
       "    <tr>\n",
       "      <th>11</th>\n",
       "      <td>random_fit</td>\n",
       "      <td>SVR</td>\n",
       "      <td>../../data/processed/data_extended.csv</td>\n",
       "      <td>6</td>\n",
       "      <td>1</td>\n",
       "      <td>True</td>\n",
       "      <td>0.3</td>\n",
       "      <td>pipeline/03.3_train_SVR.ipynb</td>\n",
       "      <td>artifacts\\SVR_random_0.3.ipynb</td>\n",
       "      <td>0.0</td>\n",
       "      <td>1.0</td>\n",
       "      <td>SVR_random_0.3</td>\n",
       "    </tr>\n",
       "    <tr>\n",
       "      <th>12</th>\n",
       "      <td>random_fit</td>\n",
       "      <td>XGBoost</td>\n",
       "      <td>../../data/processed/data_extended.csv</td>\n",
       "      <td>6</td>\n",
       "      <td>1</td>\n",
       "      <td>True</td>\n",
       "      <td>0.1</td>\n",
       "      <td>pipeline/03.2_train_xgboost.ipynb</td>\n",
       "      <td>artifacts\\XGBoost_rolling_0.1.ipynb</td>\n",
       "      <td>1.0</td>\n",
       "      <td>1.0</td>\n",
       "      <td>XGBoost_rolling_0.1</td>\n",
       "    </tr>\n",
       "    <tr>\n",
       "      <th>13</th>\n",
       "      <td>random_fit</td>\n",
       "      <td>XGBoost</td>\n",
       "      <td>../../data/processed/data_extended.csv</td>\n",
       "      <td>6</td>\n",
       "      <td>1</td>\n",
       "      <td>True</td>\n",
       "      <td>0.1</td>\n",
       "      <td>pipeline/03.2_train_xgboost.ipynb</td>\n",
       "      <td>artifacts\\XGBoost_random_0.1.ipynb</td>\n",
       "      <td>0.0</td>\n",
       "      <td>1.0</td>\n",
       "      <td>XGBoost_random_0.1</td>\n",
       "    </tr>\n",
       "    <tr>\n",
       "      <th>14</th>\n",
       "      <td>random_fit</td>\n",
       "      <td>XGBoost</td>\n",
       "      <td>../../data/processed/data_extended.csv</td>\n",
       "      <td>6</td>\n",
       "      <td>1</td>\n",
       "      <td>True</td>\n",
       "      <td>0.2</td>\n",
       "      <td>pipeline/03.2_train_xgboost.ipynb</td>\n",
       "      <td>artifacts\\XGBoost_rolling_0.2.ipynb</td>\n",
       "      <td>1.0</td>\n",
       "      <td>1.0</td>\n",
       "      <td>XGBoost_rolling_0.2</td>\n",
       "    </tr>\n",
       "    <tr>\n",
       "      <th>15</th>\n",
       "      <td>random_fit</td>\n",
       "      <td>XGBoost</td>\n",
       "      <td>../../data/processed/data_extended.csv</td>\n",
       "      <td>6</td>\n",
       "      <td>1</td>\n",
       "      <td>True</td>\n",
       "      <td>0.2</td>\n",
       "      <td>pipeline/03.2_train_xgboost.ipynb</td>\n",
       "      <td>artifacts\\XGBoost_random_0.2.ipynb</td>\n",
       "      <td>0.0</td>\n",
       "      <td>1.0</td>\n",
       "      <td>XGBoost_random_0.2</td>\n",
       "    </tr>\n",
       "    <tr>\n",
       "      <th>16</th>\n",
       "      <td>random_fit</td>\n",
       "      <td>XGBoost</td>\n",
       "      <td>../../data/processed/data_extended.csv</td>\n",
       "      <td>6</td>\n",
       "      <td>1</td>\n",
       "      <td>True</td>\n",
       "      <td>0.3</td>\n",
       "      <td>pipeline/03.2_train_xgboost.ipynb</td>\n",
       "      <td>artifacts\\XGBoost_rolling_0.3.ipynb</td>\n",
       "      <td>1.0</td>\n",
       "      <td>1.0</td>\n",
       "      <td>XGBoost_rolling_0.3</td>\n",
       "    </tr>\n",
       "    <tr>\n",
       "      <th>17</th>\n",
       "      <td>random_fit</td>\n",
       "      <td>XGBoost</td>\n",
       "      <td>../../data/processed/data_extended.csv</td>\n",
       "      <td>6</td>\n",
       "      <td>1</td>\n",
       "      <td>True</td>\n",
       "      <td>0.3</td>\n",
       "      <td>pipeline/03.2_train_xgboost.ipynb</td>\n",
       "      <td>artifacts\\XGBoost_random_0.3.ipynb</td>\n",
       "      <td>0.0</td>\n",
       "      <td>1.0</td>\n",
       "      <td>XGBoost_random_0.3</td>\n",
       "    </tr>\n",
       "    <tr>\n",
       "      <th>18</th>\n",
       "      <td>random_fit</td>\n",
       "      <td>ridge</td>\n",
       "      <td>../../data/processed/data_extended.csv</td>\n",
       "      <td>6</td>\n",
       "      <td>1</td>\n",
       "      <td>True</td>\n",
       "      <td>0.1</td>\n",
       "      <td>pipeline/03.4_train_ridge.ipynb</td>\n",
       "      <td>artifacts\\ridge_rolling_0.1.ipynb</td>\n",
       "      <td>1.0</td>\n",
       "      <td>1.0</td>\n",
       "      <td>ridge_rolling_0.1</td>\n",
       "    </tr>\n",
       "    <tr>\n",
       "      <th>19</th>\n",
       "      <td>random_fit</td>\n",
       "      <td>ridge</td>\n",
       "      <td>../../data/processed/data_extended.csv</td>\n",
       "      <td>6</td>\n",
       "      <td>1</td>\n",
       "      <td>True</td>\n",
       "      <td>0.1</td>\n",
       "      <td>pipeline/03.4_train_ridge.ipynb</td>\n",
       "      <td>artifacts\\ridge_random_0.1.ipynb</td>\n",
       "      <td>0.0</td>\n",
       "      <td>1.0</td>\n",
       "      <td>ridge_random_0.1</td>\n",
       "    </tr>\n",
       "    <tr>\n",
       "      <th>20</th>\n",
       "      <td>random_fit</td>\n",
       "      <td>ridge</td>\n",
       "      <td>../../data/processed/data_extended.csv</td>\n",
       "      <td>6</td>\n",
       "      <td>1</td>\n",
       "      <td>True</td>\n",
       "      <td>0.2</td>\n",
       "      <td>pipeline/03.4_train_ridge.ipynb</td>\n",
       "      <td>artifacts\\ridge_rolling_0.2.ipynb</td>\n",
       "      <td>1.0</td>\n",
       "      <td>1.0</td>\n",
       "      <td>ridge_rolling_0.2</td>\n",
       "    </tr>\n",
       "    <tr>\n",
       "      <th>21</th>\n",
       "      <td>random_fit</td>\n",
       "      <td>ridge</td>\n",
       "      <td>../../data/processed/data_extended.csv</td>\n",
       "      <td>6</td>\n",
       "      <td>1</td>\n",
       "      <td>True</td>\n",
       "      <td>0.2</td>\n",
       "      <td>pipeline/03.4_train_ridge.ipynb</td>\n",
       "      <td>artifacts\\ridge_random_0.2.ipynb</td>\n",
       "      <td>0.0</td>\n",
       "      <td>1.0</td>\n",
       "      <td>ridge_random_0.2</td>\n",
       "    </tr>\n",
       "    <tr>\n",
       "      <th>22</th>\n",
       "      <td>random_fit</td>\n",
       "      <td>ridge</td>\n",
       "      <td>../../data/processed/data_extended.csv</td>\n",
       "      <td>6</td>\n",
       "      <td>1</td>\n",
       "      <td>True</td>\n",
       "      <td>0.3</td>\n",
       "      <td>pipeline/03.4_train_ridge.ipynb</td>\n",
       "      <td>artifacts\\ridge_rolling_0.3.ipynb</td>\n",
       "      <td>1.0</td>\n",
       "      <td>1.0</td>\n",
       "      <td>ridge_rolling_0.3</td>\n",
       "    </tr>\n",
       "    <tr>\n",
       "      <th>23</th>\n",
       "      <td>random_fit</td>\n",
       "      <td>ridge</td>\n",
       "      <td>../../data/processed/data_extended.csv</td>\n",
       "      <td>6</td>\n",
       "      <td>1</td>\n",
       "      <td>True</td>\n",
       "      <td>0.3</td>\n",
       "      <td>pipeline/03.4_train_ridge.ipynb</td>\n",
       "      <td>artifacts\\ridge_random_0.3.ipynb</td>\n",
       "      <td>0.0</td>\n",
       "      <td>1.0</td>\n",
       "      <td>ridge_random_0.3</td>\n",
       "    </tr>\n",
       "    <tr>\n",
       "      <th>24</th>\n",
       "      <td>random_fit</td>\n",
       "      <td>lasso</td>\n",
       "      <td>../../data/processed/data_extended.csv</td>\n",
       "      <td>6</td>\n",
       "      <td>1</td>\n",
       "      <td>True</td>\n",
       "      <td>0.1</td>\n",
       "      <td>pipeline/03.5_train_lasso.ipynb</td>\n",
       "      <td>artifacts\\lasso_rolling_0.1.ipynb</td>\n",
       "      <td>1.0</td>\n",
       "      <td>1.0</td>\n",
       "      <td>lasso_rolling_0.1</td>\n",
       "    </tr>\n",
       "    <tr>\n",
       "      <th>25</th>\n",
       "      <td>random_fit</td>\n",
       "      <td>lasso</td>\n",
       "      <td>../../data/processed/data_extended.csv</td>\n",
       "      <td>6</td>\n",
       "      <td>1</td>\n",
       "      <td>True</td>\n",
       "      <td>0.1</td>\n",
       "      <td>pipeline/03.5_train_lasso.ipynb</td>\n",
       "      <td>artifacts\\lasso_random_0.1.ipynb</td>\n",
       "      <td>0.0</td>\n",
       "      <td>1.0</td>\n",
       "      <td>lasso_random_0.1</td>\n",
       "    </tr>\n",
       "    <tr>\n",
       "      <th>26</th>\n",
       "      <td>random_fit</td>\n",
       "      <td>lasso</td>\n",
       "      <td>../../data/processed/data_extended.csv</td>\n",
       "      <td>6</td>\n",
       "      <td>1</td>\n",
       "      <td>True</td>\n",
       "      <td>0.2</td>\n",
       "      <td>pipeline/03.5_train_lasso.ipynb</td>\n",
       "      <td>artifacts\\lasso_rolling_0.2.ipynb</td>\n",
       "      <td>1.0</td>\n",
       "      <td>1.0</td>\n",
       "      <td>lasso_rolling_0.2</td>\n",
       "    </tr>\n",
       "    <tr>\n",
       "      <th>27</th>\n",
       "      <td>random_fit</td>\n",
       "      <td>lasso</td>\n",
       "      <td>../../data/processed/data_extended.csv</td>\n",
       "      <td>6</td>\n",
       "      <td>1</td>\n",
       "      <td>True</td>\n",
       "      <td>0.2</td>\n",
       "      <td>pipeline/03.5_train_lasso.ipynb</td>\n",
       "      <td>artifacts\\lasso_random_0.2.ipynb</td>\n",
       "      <td>0.0</td>\n",
       "      <td>1.0</td>\n",
       "      <td>lasso_random_0.2</td>\n",
       "    </tr>\n",
       "    <tr>\n",
       "      <th>28</th>\n",
       "      <td>random_fit</td>\n",
       "      <td>lasso</td>\n",
       "      <td>../../data/processed/data_extended.csv</td>\n",
       "      <td>6</td>\n",
       "      <td>1</td>\n",
       "      <td>True</td>\n",
       "      <td>0.3</td>\n",
       "      <td>pipeline/03.5_train_lasso.ipynb</td>\n",
       "      <td>artifacts\\lasso_rolling_0.3.ipynb</td>\n",
       "      <td>1.0</td>\n",
       "      <td>1.0</td>\n",
       "      <td>lasso_rolling_0.3</td>\n",
       "    </tr>\n",
       "    <tr>\n",
       "      <th>29</th>\n",
       "      <td>random_fit</td>\n",
       "      <td>lasso</td>\n",
       "      <td>../../data/processed/data_extended.csv</td>\n",
       "      <td>6</td>\n",
       "      <td>1</td>\n",
       "      <td>True</td>\n",
       "      <td>0.3</td>\n",
       "      <td>pipeline/03.5_train_lasso.ipynb</td>\n",
       "      <td>artifacts\\lasso_random_0.3.ipynb</td>\n",
       "      <td>0.0</td>\n",
       "      <td>1.0</td>\n",
       "      <td>lasso_random_0.3</td>\n",
       "    </tr>\n",
       "  </tbody>\n",
       "</table>\n",
       "</div>"
      ],
      "text/plain": [
       "    experiment  model_name                               data_path n_splits  \\\n",
       "0   random_fit  polynomial  ../../data/processed/data_extended.csv        6   \n",
       "1   random_fit  polynomial  ../../data/processed/data_extended.csv        6   \n",
       "2   random_fit  polynomial  ../../data/processed/data_extended.csv        6   \n",
       "3   random_fit  polynomial  ../../data/processed/data_extended.csv        6   \n",
       "4   random_fit  polynomial  ../../data/processed/data_extended.csv        6   \n",
       "5   random_fit  polynomial  ../../data/processed/data_extended.csv        6   \n",
       "6   random_fit         SVR  ../../data/processed/data_extended.csv        6   \n",
       "7   random_fit         SVR  ../../data/processed/data_extended.csv        6   \n",
       "8   random_fit         SVR  ../../data/processed/data_extended.csv        6   \n",
       "9   random_fit         SVR  ../../data/processed/data_extended.csv        6   \n",
       "10  random_fit         SVR  ../../data/processed/data_extended.csv        6   \n",
       "11  random_fit         SVR  ../../data/processed/data_extended.csv        6   \n",
       "12  random_fit     XGBoost  ../../data/processed/data_extended.csv        6   \n",
       "13  random_fit     XGBoost  ../../data/processed/data_extended.csv        6   \n",
       "14  random_fit     XGBoost  ../../data/processed/data_extended.csv        6   \n",
       "15  random_fit     XGBoost  ../../data/processed/data_extended.csv        6   \n",
       "16  random_fit     XGBoost  ../../data/processed/data_extended.csv        6   \n",
       "17  random_fit     XGBoost  ../../data/processed/data_extended.csv        6   \n",
       "18  random_fit       ridge  ../../data/processed/data_extended.csv        6   \n",
       "19  random_fit       ridge  ../../data/processed/data_extended.csv        6   \n",
       "20  random_fit       ridge  ../../data/processed/data_extended.csv        6   \n",
       "21  random_fit       ridge  ../../data/processed/data_extended.csv        6   \n",
       "22  random_fit       ridge  ../../data/processed/data_extended.csv        6   \n",
       "23  random_fit       ridge  ../../data/processed/data_extended.csv        6   \n",
       "24  random_fit       lasso  ../../data/processed/data_extended.csv        6   \n",
       "25  random_fit       lasso  ../../data/processed/data_extended.csv        6   \n",
       "26  random_fit       lasso  ../../data/processed/data_extended.csv        6   \n",
       "27  random_fit       lasso  ../../data/processed/data_extended.csv        6   \n",
       "28  random_fit       lasso  ../../data/processed/data_extended.csv        6   \n",
       "29  random_fit       lasso  ../../data/processed/data_extended.csv        6   \n",
       "\n",
       "   n_repeats rolling  test_size                         input_path  \\\n",
       "0          1    True        0.1    pipeline/03.1_train_model.ipynb   \n",
       "1          1    True        0.1    pipeline/03.1_train_model.ipynb   \n",
       "2          1    True        0.2    pipeline/03.1_train_model.ipynb   \n",
       "3          1    True        0.2    pipeline/03.1_train_model.ipynb   \n",
       "4          1    True        0.3    pipeline/03.1_train_model.ipynb   \n",
       "5          1    True        0.3    pipeline/03.1_train_model.ipynb   \n",
       "6          1    True        0.1      pipeline/03.3_train_SVR.ipynb   \n",
       "7          1    True        0.1      pipeline/03.3_train_SVR.ipynb   \n",
       "8          1    True        0.2      pipeline/03.3_train_SVR.ipynb   \n",
       "9          1    True        0.2      pipeline/03.3_train_SVR.ipynb   \n",
       "10         1    True        0.3      pipeline/03.3_train_SVR.ipynb   \n",
       "11         1    True        0.3      pipeline/03.3_train_SVR.ipynb   \n",
       "12         1    True        0.1  pipeline/03.2_train_xgboost.ipynb   \n",
       "13         1    True        0.1  pipeline/03.2_train_xgboost.ipynb   \n",
       "14         1    True        0.2  pipeline/03.2_train_xgboost.ipynb   \n",
       "15         1    True        0.2  pipeline/03.2_train_xgboost.ipynb   \n",
       "16         1    True        0.3  pipeline/03.2_train_xgboost.ipynb   \n",
       "17         1    True        0.3  pipeline/03.2_train_xgboost.ipynb   \n",
       "18         1    True        0.1    pipeline/03.4_train_ridge.ipynb   \n",
       "19         1    True        0.1    pipeline/03.4_train_ridge.ipynb   \n",
       "20         1    True        0.2    pipeline/03.4_train_ridge.ipynb   \n",
       "21         1    True        0.2    pipeline/03.4_train_ridge.ipynb   \n",
       "22         1    True        0.3    pipeline/03.4_train_ridge.ipynb   \n",
       "23         1    True        0.3    pipeline/03.4_train_ridge.ipynb   \n",
       "24         1    True        0.1    pipeline/03.5_train_lasso.ipynb   \n",
       "25         1    True        0.1    pipeline/03.5_train_lasso.ipynb   \n",
       "26         1    True        0.2    pipeline/03.5_train_lasso.ipynb   \n",
       "27         1    True        0.2    pipeline/03.5_train_lasso.ipynb   \n",
       "28         1    True        0.3    pipeline/03.5_train_lasso.ipynb   \n",
       "29         1    True        0.3    pipeline/03.5_train_lasso.ipynb   \n",
       "\n",
       "                               output_path  rolling_cv  rolling_test  \\\n",
       "0   artifacts\\polynomial_rolling_0.1.ipynb         1.0           1.0   \n",
       "1    artifacts\\polynomial_random_0.1.ipynb         0.0           1.0   \n",
       "2   artifacts\\polynomial_rolling_0.2.ipynb         1.0           1.0   \n",
       "3    artifacts\\polynomial_random_0.2.ipynb         0.0           1.0   \n",
       "4   artifacts\\polynomial_rolling_0.3.ipynb         1.0           1.0   \n",
       "5    artifacts\\polynomial_random_0.3.ipynb         0.0           1.0   \n",
       "6          artifacts\\SVR_rolling_0.1.ipynb         1.0           1.0   \n",
       "7           artifacts\\SVR_random_0.1.ipynb         0.0           1.0   \n",
       "8          artifacts\\SVR_rolling_0.2.ipynb         1.0           1.0   \n",
       "9           artifacts\\SVR_random_0.2.ipynb         0.0           1.0   \n",
       "10         artifacts\\SVR_rolling_0.3.ipynb         1.0           1.0   \n",
       "11          artifacts\\SVR_random_0.3.ipynb         0.0           1.0   \n",
       "12     artifacts\\XGBoost_rolling_0.1.ipynb         1.0           1.0   \n",
       "13      artifacts\\XGBoost_random_0.1.ipynb         0.0           1.0   \n",
       "14     artifacts\\XGBoost_rolling_0.2.ipynb         1.0           1.0   \n",
       "15      artifacts\\XGBoost_random_0.2.ipynb         0.0           1.0   \n",
       "16     artifacts\\XGBoost_rolling_0.3.ipynb         1.0           1.0   \n",
       "17      artifacts\\XGBoost_random_0.3.ipynb         0.0           1.0   \n",
       "18       artifacts\\ridge_rolling_0.1.ipynb         1.0           1.0   \n",
       "19        artifacts\\ridge_random_0.1.ipynb         0.0           1.0   \n",
       "20       artifacts\\ridge_rolling_0.2.ipynb         1.0           1.0   \n",
       "21        artifacts\\ridge_random_0.2.ipynb         0.0           1.0   \n",
       "22       artifacts\\ridge_rolling_0.3.ipynb         1.0           1.0   \n",
       "23        artifacts\\ridge_random_0.3.ipynb         0.0           1.0   \n",
       "24       artifacts\\lasso_rolling_0.1.ipynb         1.0           1.0   \n",
       "25        artifacts\\lasso_random_0.1.ipynb         0.0           1.0   \n",
       "26       artifacts\\lasso_rolling_0.2.ipynb         1.0           1.0   \n",
       "27        artifacts\\lasso_random_0.2.ipynb         0.0           1.0   \n",
       "28       artifacts\\lasso_rolling_0.3.ipynb         1.0           1.0   \n",
       "29        artifacts\\lasso_random_0.3.ipynb         0.0           1.0   \n",
       "\n",
       "                  run_name  \n",
       "0   polynomial_rolling_0.1  \n",
       "1    polynomial_random_0.1  \n",
       "2   polynomial_rolling_0.2  \n",
       "3    polynomial_random_0.2  \n",
       "4   polynomial_rolling_0.3  \n",
       "5    polynomial_random_0.3  \n",
       "6          SVR_rolling_0.1  \n",
       "7           SVR_random_0.1  \n",
       "8          SVR_rolling_0.2  \n",
       "9           SVR_random_0.2  \n",
       "10         SVR_rolling_0.3  \n",
       "11          SVR_random_0.3  \n",
       "12     XGBoost_rolling_0.1  \n",
       "13      XGBoost_random_0.1  \n",
       "14     XGBoost_rolling_0.2  \n",
       "15      XGBoost_random_0.2  \n",
       "16     XGBoost_rolling_0.3  \n",
       "17      XGBoost_random_0.3  \n",
       "18       ridge_rolling_0.1  \n",
       "19        ridge_random_0.1  \n",
       "20       ridge_rolling_0.2  \n",
       "21        ridge_random_0.2  \n",
       "22       ridge_rolling_0.3  \n",
       "23        ridge_random_0.3  \n",
       "24       lasso_rolling_0.1  \n",
       "25        lasso_random_0.1  \n",
       "26       lasso_rolling_0.2  \n",
       "27        lasso_random_0.2  \n",
       "28       lasso_rolling_0.3  \n",
       "29        lasso_random_0.3  "
      ]
     },
     "execution_count": 35,
     "metadata": {},
     "output_type": "execute_result"
    }
   ],
   "source": [
    "artifact_dir = 'artifacts'\n",
    "\n",
    "parameters = {\n",
    "    'experiment' : 'rolling_fit',\n",
    "    'model_name' : 'polynomial',\n",
    "    'data_path' : '../../data/processed/data_extended.csv',\n",
    "    'n_splits' : 6,\n",
    "    'n_repeats' :1,\n",
    "    'rolling':True,\n",
    "    'test_size':0.2,\n",
    "    'input_path':r'pipeline/03.1_train_model.ipynb',\n",
    "}\n",
    "\n",
    "models = {\n",
    "    \n",
    "    'polynomial' : {\n",
    "        'input_path':r'pipeline/03.1_train_model.ipynb',\n",
    "    },\n",
    "\n",
    "    'SVR' : {\n",
    "        'input_path':r'pipeline/03.3_train_SVR.ipynb',\n",
    "    },    \n",
    "    \n",
    "    'XGBoost' : {\n",
    "        'input_path':r'pipeline/03.2_train_xgboost.ipynb',\n",
    "    },\n",
    "    \n",
    "    'ridge' : {\n",
    "        'input_path':r'pipeline/03.4_train_ridge.ipynb',\n",
    "    },\n",
    "    \n",
    "    'lasso' : {\n",
    "        'input_path':r'pipeline/03.5_train_lasso.ipynb',\n",
    "    },\n",
    "\n",
    "            \n",
    "}\n",
    "\n",
    "\n",
    "df_parameters = pd.DataFrame(columns=parameters.keys())\n",
    "\n",
    "for model_name, model in models.items():\n",
    "        \n",
    "    for test_size in [0.1,0.2,0.3]:\n",
    "    \n",
    "        for rolling_cv in [True,False]:   \n",
    "            \n",
    "            s = pd.Series(parameters)\n",
    "            \n",
    "            if not rolling:\n",
    "                s['experiment'] = 'random_fit'\n",
    "            \n",
    "            s['rolling_cv']=rolling_cv\n",
    "            s['rolling_test']=True\n",
    "            s['test_size'] = test_size\n",
    "            \n",
    "        \n",
    "            s.update(model)\n",
    "            s['model_name'] = model_name\n",
    "            s['run_name'] = create_run_name(parameters=s)\n",
    "            \n",
    "            s['output_path'] = create_output_path(parameters=s, artifact_dir = artifact_dir)\n",
    "            \n",
    "            df_parameters = df_parameters.append(s, ignore_index=True)\n",
    "\n",
    "df_parameters"
   ]
  },
  {
   "cell_type": "code",
   "execution_count": 36,
   "metadata": {},
   "outputs": [],
   "source": [
    "assert df_parameters['run_name'].is_unique"
   ]
  },
  {
   "cell_type": "code",
   "execution_count": 37,
   "metadata": {},
   "outputs": [
    {
     "name": "stderr",
     "output_type": "stream",
     "text": [
      "2021-06-14 19:40:25,468 - Running notebook for: polynomial_rolling_0.1\n"
     ]
    },
    {
     "data": {
      "application/vnd.jupyter.widget-view+json": {
       "model_id": "ecde1090d2484e4e85b7e298525b6c04",
       "version_major": 2,
       "version_minor": 0
      },
      "text/plain": [
       "Executing:   0%|          | 0/26 [00:00<?, ?cell/s]"
      ]
     },
     "metadata": {},
     "output_type": "display_data"
    },
    {
     "name": "stderr",
     "output_type": "stream",
     "text": [
      "2021-06-14 19:40:40,693 - Running notebook for: polynomial_random_0.1\n"
     ]
    },
    {
     "data": {
      "application/vnd.jupyter.widget-view+json": {
       "model_id": "06bb6e74374b444d8a81edf995cb0a31",
       "version_major": 2,
       "version_minor": 0
      },
      "text/plain": [
       "Executing:   0%|          | 0/26 [00:00<?, ?cell/s]"
      ]
     },
     "metadata": {},
     "output_type": "display_data"
    },
    {
     "name": "stderr",
     "output_type": "stream",
     "text": [
      "2021-06-14 19:40:56,935 - Running notebook for: polynomial_rolling_0.2\n"
     ]
    },
    {
     "data": {
      "application/vnd.jupyter.widget-view+json": {
       "model_id": "81576db4a53d4160a232091cdb624830",
       "version_major": 2,
       "version_minor": 0
      },
      "text/plain": [
       "Executing:   0%|          | 0/26 [00:00<?, ?cell/s]"
      ]
     },
     "metadata": {},
     "output_type": "display_data"
    },
    {
     "name": "stderr",
     "output_type": "stream",
     "text": [
      "2021-06-14 19:41:12,113 - Running notebook for: polynomial_random_0.2\n"
     ]
    },
    {
     "data": {
      "application/vnd.jupyter.widget-view+json": {
       "model_id": "3e9b047f385e46d8a7aaf7c94eabc5f9",
       "version_major": 2,
       "version_minor": 0
      },
      "text/plain": [
       "Executing:   0%|          | 0/26 [00:00<?, ?cell/s]"
      ]
     },
     "metadata": {},
     "output_type": "display_data"
    },
    {
     "name": "stderr",
     "output_type": "stream",
     "text": [
      "2021-06-14 19:41:30,679 - Running notebook for: polynomial_rolling_0.3\n"
     ]
    },
    {
     "data": {
      "application/vnd.jupyter.widget-view+json": {
       "model_id": "bf1490a9c9d94a72817367640ee0b462",
       "version_major": 2,
       "version_minor": 0
      },
      "text/plain": [
       "Executing:   0%|          | 0/26 [00:00<?, ?cell/s]"
      ]
     },
     "metadata": {},
     "output_type": "display_data"
    },
    {
     "name": "stderr",
     "output_type": "stream",
     "text": [
      "2021-06-14 19:41:50,327 - Running notebook for: polynomial_random_0.3\n"
     ]
    },
    {
     "data": {
      "application/vnd.jupyter.widget-view+json": {
       "model_id": "e9a2a67dfdf94eb9a10168657e13ecea",
       "version_major": 2,
       "version_minor": 0
      },
      "text/plain": [
       "Executing:   0%|          | 0/26 [00:00<?, ?cell/s]"
      ]
     },
     "metadata": {},
     "output_type": "display_data"
    },
    {
     "name": "stderr",
     "output_type": "stream",
     "text": [
      "2021-06-14 19:42:05,533 - Running notebook for: SVR_rolling_0.1\n"
     ]
    },
    {
     "data": {
      "application/vnd.jupyter.widget-view+json": {
       "model_id": "c0678c99a9ad47e997b1f75f54a820b7",
       "version_major": 2,
       "version_minor": 0
      },
      "text/plain": [
       "Executing:   0%|          | 0/24 [00:00<?, ?cell/s]"
      ]
     },
     "metadata": {},
     "output_type": "display_data"
    },
    {
     "name": "stderr",
     "output_type": "stream",
     "text": [
      "2021-06-14 19:42:38,555 - Running notebook for: SVR_random_0.1\n"
     ]
    },
    {
     "data": {
      "application/vnd.jupyter.widget-view+json": {
       "model_id": "9e7816949a7c4de892f472c4358dc70e",
       "version_major": 2,
       "version_minor": 0
      },
      "text/plain": [
       "Executing:   0%|          | 0/24 [00:00<?, ?cell/s]"
      ]
     },
     "metadata": {},
     "output_type": "display_data"
    },
    {
     "name": "stderr",
     "output_type": "stream",
     "text": [
      "2021-06-14 19:43:23,536 - Running notebook for: SVR_rolling_0.2\n"
     ]
    },
    {
     "data": {
      "application/vnd.jupyter.widget-view+json": {
       "model_id": "f3924b13d0b14bf7802c30a1bf17e59b",
       "version_major": 2,
       "version_minor": 0
      },
      "text/plain": [
       "Executing:   0%|          | 0/24 [00:00<?, ?cell/s]"
      ]
     },
     "metadata": {},
     "output_type": "display_data"
    },
    {
     "name": "stderr",
     "output_type": "stream",
     "text": [
      "2021-06-14 19:43:53,873 - Running notebook for: SVR_random_0.2\n"
     ]
    },
    {
     "data": {
      "application/vnd.jupyter.widget-view+json": {
       "model_id": "b2d820e3095f4f9581021ff4a6fb8b1c",
       "version_major": 2,
       "version_minor": 0
      },
      "text/plain": [
       "Executing:   0%|          | 0/24 [00:00<?, ?cell/s]"
      ]
     },
     "metadata": {},
     "output_type": "display_data"
    },
    {
     "name": "stderr",
     "output_type": "stream",
     "text": [
      "2021-06-14 19:44:33,196 - Running notebook for: SVR_rolling_0.3\n"
     ]
    },
    {
     "data": {
      "application/vnd.jupyter.widget-view+json": {
       "model_id": "ffa083a4429446fba3256414de0c4224",
       "version_major": 2,
       "version_minor": 0
      },
      "text/plain": [
       "Executing:   0%|          | 0/24 [00:00<?, ?cell/s]"
      ]
     },
     "metadata": {},
     "output_type": "display_data"
    },
    {
     "name": "stderr",
     "output_type": "stream",
     "text": [
      "2021-06-14 19:44:59,452 - Running notebook for: SVR_random_0.3\n"
     ]
    },
    {
     "data": {
      "application/vnd.jupyter.widget-view+json": {
       "model_id": "e3aa79b93c6f4b6bb98df642d6ba551e",
       "version_major": 2,
       "version_minor": 0
      },
      "text/plain": [
       "Executing:   0%|          | 0/24 [00:00<?, ?cell/s]"
      ]
     },
     "metadata": {},
     "output_type": "display_data"
    },
    {
     "name": "stderr",
     "output_type": "stream",
     "text": [
      "2021-06-14 19:45:31,709 - Running notebook for: XGBoost_rolling_0.1\n"
     ]
    },
    {
     "data": {
      "application/vnd.jupyter.widget-view+json": {
       "model_id": "08f321e5af1d4864bf58c2d1d0dfeb03",
       "version_major": 2,
       "version_minor": 0
      },
      "text/plain": [
       "Executing:   0%|          | 0/24 [00:00<?, ?cell/s]"
      ]
     },
     "metadata": {},
     "output_type": "display_data"
    },
    {
     "name": "stderr",
     "output_type": "stream",
     "text": [
      "2021-06-14 20:03:45,048 - Running notebook for: XGBoost_random_0.1\n"
     ]
    },
    {
     "data": {
      "application/vnd.jupyter.widget-view+json": {
       "model_id": "37220d9d2df14721877e00e5a2ac7390",
       "version_major": 2,
       "version_minor": 0
      },
      "text/plain": [
       "Executing:   0%|          | 0/24 [00:00<?, ?cell/s]"
      ]
     },
     "metadata": {},
     "output_type": "display_data"
    },
    {
     "name": "stderr",
     "output_type": "stream",
     "text": [
      "2021-06-14 20:32:13,530 - Running notebook for: XGBoost_rolling_0.2\n"
     ]
    },
    {
     "data": {
      "application/vnd.jupyter.widget-view+json": {
       "model_id": "05c3a69a54c14f72950fa0ce50b5af06",
       "version_major": 2,
       "version_minor": 0
      },
      "text/plain": [
       "Executing:   0%|          | 0/24 [00:00<?, ?cell/s]"
      ]
     },
     "metadata": {},
     "output_type": "display_data"
    },
    {
     "name": "stderr",
     "output_type": "stream",
     "text": [
      "2021-06-14 20:48:19,313 - Running notebook for: XGBoost_random_0.2\n"
     ]
    },
    {
     "data": {
      "application/vnd.jupyter.widget-view+json": {
       "model_id": "d3f3d3708da24c528add01cc855d4f55",
       "version_major": 2,
       "version_minor": 0
      },
      "text/plain": [
       "Executing:   0%|          | 0/24 [00:00<?, ?cell/s]"
      ]
     },
     "metadata": {},
     "output_type": "display_data"
    },
    {
     "name": "stderr",
     "output_type": "stream",
     "text": [
      "2021-06-14 21:13:47,959 - Running notebook for: XGBoost_rolling_0.3\n"
     ]
    },
    {
     "data": {
      "application/vnd.jupyter.widget-view+json": {
       "model_id": "f82acb70382b435f9badbe5609c36363",
       "version_major": 2,
       "version_minor": 0
      },
      "text/plain": [
       "Executing:   0%|          | 0/24 [00:00<?, ?cell/s]"
      ]
     },
     "metadata": {},
     "output_type": "display_data"
    },
    {
     "name": "stderr",
     "output_type": "stream",
     "text": [
      "2021-06-14 21:28:01,837 - Running notebook for: XGBoost_random_0.3\n"
     ]
    },
    {
     "data": {
      "application/vnd.jupyter.widget-view+json": {
       "model_id": "b93d7028d6d642ab8f5cb9db93856f8e",
       "version_major": 2,
       "version_minor": 0
      },
      "text/plain": [
       "Executing:   0%|          | 0/24 [00:00<?, ?cell/s]"
      ]
     },
     "metadata": {},
     "output_type": "display_data"
    },
    {
     "name": "stderr",
     "output_type": "stream",
     "text": [
      "2021-06-14 21:50:35,369 - Running notebook for: ridge_rolling_0.1\n"
     ]
    },
    {
     "data": {
      "application/vnd.jupyter.widget-view+json": {
       "model_id": "7873fd85abdd47eb9180e2960ab370f0",
       "version_major": 2,
       "version_minor": 0
      },
      "text/plain": [
       "Executing:   0%|          | 0/25 [00:00<?, ?cell/s]"
      ]
     },
     "metadata": {},
     "output_type": "display_data"
    },
    {
     "name": "stderr",
     "output_type": "stream",
     "text": [
      "2021-06-14 21:51:01,735 - Running notebook for: ridge_random_0.1\n"
     ]
    },
    {
     "data": {
      "application/vnd.jupyter.widget-view+json": {
       "model_id": "9787263009b84fa089dccb72b3b920b2",
       "version_major": 2,
       "version_minor": 0
      },
      "text/plain": [
       "Executing:   0%|          | 0/25 [00:00<?, ?cell/s]"
      ]
     },
     "metadata": {},
     "output_type": "display_data"
    },
    {
     "name": "stderr",
     "output_type": "stream",
     "text": [
      "2021-06-14 21:51:31,132 - Running notebook for: ridge_rolling_0.2\n"
     ]
    },
    {
     "data": {
      "application/vnd.jupyter.widget-view+json": {
       "model_id": "16c99871d24346b88b7961883a418765",
       "version_major": 2,
       "version_minor": 0
      },
      "text/plain": [
       "Executing:   0%|          | 0/25 [00:00<?, ?cell/s]"
      ]
     },
     "metadata": {},
     "output_type": "display_data"
    },
    {
     "name": "stderr",
     "output_type": "stream",
     "text": [
      "2021-06-14 21:51:56,458 - Running notebook for: ridge_random_0.2\n"
     ]
    },
    {
     "data": {
      "application/vnd.jupyter.widget-view+json": {
       "model_id": "06ea586fbff4446aa9097823f9f701e5",
       "version_major": 2,
       "version_minor": 0
      },
      "text/plain": [
       "Executing:   0%|          | 0/25 [00:00<?, ?cell/s]"
      ]
     },
     "metadata": {},
     "output_type": "display_data"
    },
    {
     "name": "stderr",
     "output_type": "stream",
     "text": [
      "2021-06-14 21:52:25,732 - Running notebook for: ridge_rolling_0.3\n"
     ]
    },
    {
     "data": {
      "application/vnd.jupyter.widget-view+json": {
       "model_id": "04efea40ec564e10a914ce363b675ace",
       "version_major": 2,
       "version_minor": 0
      },
      "text/plain": [
       "Executing:   0%|          | 0/25 [00:00<?, ?cell/s]"
      ]
     },
     "metadata": {},
     "output_type": "display_data"
    },
    {
     "name": "stderr",
     "output_type": "stream",
     "text": [
      "2021-06-14 21:52:50,073 - Running notebook for: ridge_random_0.3\n"
     ]
    },
    {
     "data": {
      "application/vnd.jupyter.widget-view+json": {
       "model_id": "17eeda36f0294a6fa0c064339ac165a3",
       "version_major": 2,
       "version_minor": 0
      },
      "text/plain": [
       "Executing:   0%|          | 0/25 [00:00<?, ?cell/s]"
      ]
     },
     "metadata": {},
     "output_type": "display_data"
    },
    {
     "name": "stderr",
     "output_type": "stream",
     "text": [
      "2021-06-14 21:53:17,432 - Running notebook for: lasso_rolling_0.1\n"
     ]
    },
    {
     "data": {
      "application/vnd.jupyter.widget-view+json": {
       "model_id": "8c4e027d1a004be7b031013353edbe35",
       "version_major": 2,
       "version_minor": 0
      },
      "text/plain": [
       "Executing:   0%|          | 0/25 [00:00<?, ?cell/s]"
      ]
     },
     "metadata": {},
     "output_type": "display_data"
    },
    {
     "name": "stderr",
     "output_type": "stream",
     "text": [
      "2021-06-14 21:53:44,490 - Running notebook for: lasso_random_0.1\n"
     ]
    },
    {
     "data": {
      "application/vnd.jupyter.widget-view+json": {
       "model_id": "ad44a8073eac4698a9528667738a1720",
       "version_major": 2,
       "version_minor": 0
      },
      "text/plain": [
       "Executing:   0%|          | 0/25 [00:00<?, ?cell/s]"
      ]
     },
     "metadata": {},
     "output_type": "display_data"
    },
    {
     "name": "stderr",
     "output_type": "stream",
     "text": [
      "2021-06-14 21:54:16,316 - Running notebook for: lasso_rolling_0.2\n"
     ]
    },
    {
     "data": {
      "application/vnd.jupyter.widget-view+json": {
       "model_id": "0aec4d3b9b5a4c669d7e121ff2e39f65",
       "version_major": 2,
       "version_minor": 0
      },
      "text/plain": [
       "Executing:   0%|          | 0/25 [00:00<?, ?cell/s]"
      ]
     },
     "metadata": {},
     "output_type": "display_data"
    },
    {
     "name": "stderr",
     "output_type": "stream",
     "text": [
      "2021-06-14 21:54:43,663 - Running notebook for: lasso_random_0.2\n"
     ]
    },
    {
     "data": {
      "application/vnd.jupyter.widget-view+json": {
       "model_id": "1e542f5ad14c4873af3eb051d6628577",
       "version_major": 2,
       "version_minor": 0
      },
      "text/plain": [
       "Executing:   0%|          | 0/25 [00:00<?, ?cell/s]"
      ]
     },
     "metadata": {},
     "output_type": "display_data"
    },
    {
     "name": "stderr",
     "output_type": "stream",
     "text": [
      "2021-06-14 21:55:13,662 - Running notebook for: lasso_rolling_0.3\n"
     ]
    },
    {
     "data": {
      "application/vnd.jupyter.widget-view+json": {
       "model_id": "ac36ce9cc37c4b6a987bca8bf179a577",
       "version_major": 2,
       "version_minor": 0
      },
      "text/plain": [
       "Executing:   0%|          | 0/25 [00:00<?, ?cell/s]"
      ]
     },
     "metadata": {},
     "output_type": "display_data"
    },
    {
     "name": "stderr",
     "output_type": "stream",
     "text": [
      "2021-06-14 21:55:38,916 - Running notebook for: lasso_random_0.3\n"
     ]
    },
    {
     "data": {
      "application/vnd.jupyter.widget-view+json": {
       "model_id": "378ed1dea03440f4adb3ae95568bed3a",
       "version_major": 2,
       "version_minor": 0
      },
      "text/plain": [
       "Executing:   0%|          | 0/25 [00:00<?, ?cell/s]"
      ]
     },
     "metadata": {},
     "output_type": "display_data"
    }
   ],
   "source": [
    "for run_name, parameters in df_parameters.iterrows():\n",
    "\n",
    "    logger.info(f'Running notebook for: {parameters[\"run_name\"]}')\n",
    "    output_path = parameters['output_path']\n",
    "    \n",
    "    if os.path.exists(output_path):\n",
    "        if os.path.getsize(output_path) > 1000:\n",
    "            logger.info('Already run, skipping...')\n",
    "            continue\n",
    "    \n",
    "    try:\n",
    "        pm.execute_notebook(input_path=parameters['input_path'], \n",
    "                        output_path=output_path,                   \n",
    "                        parameters={'run_params':dict(parameters)},\n",
    "                        cwd=artifact_dir);\n",
    "    except Exception as e:\n",
    "        logger.error(e)\n",
    "        continue"
   ]
  },
  {
   "cell_type": "code",
   "execution_count": null,
   "metadata": {},
   "outputs": [],
   "source": [
    "from mlflow.tracking import MlflowClient\n",
    "import mlflow"
   ]
  },
  {
   "cell_type": "code",
   "execution_count": null,
   "metadata": {},
   "outputs": [],
   "source": [
    "print(mlflow.get_registry_uri())"
   ]
  },
  {
   "cell_type": "code",
   "execution_count": null,
   "metadata": {},
   "outputs": [],
   "source": [
    "import mlflow\n",
    "run = mlflow.get_run(run_id='d44831137a6e40f9b1a938cf61676a92')"
   ]
  },
  {
   "cell_type": "code",
   "execution_count": null,
   "metadata": {},
   "outputs": [],
   "source": [
    "run.to_dictionary()"
   ]
  },
  {
   "cell_type": "code",
   "execution_count": null,
   "metadata": {},
   "outputs": [],
   "source": [
    "run.data.metrics"
   ]
  },
  {
   "cell_type": "code",
   "execution_count": null,
   "metadata": {},
   "outputs": [],
   "source": []
  }
 ],
 "metadata": {
  "kernelspec": {
   "display_name": "Python 3",
   "language": "python",
   "name": "python3"
  },
  "language_info": {
   "codemirror_mode": {
    "name": "ipython",
    "version": 3
   },
   "file_extension": ".py",
   "mimetype": "text/x-python",
   "name": "python",
   "nbconvert_exporter": "python",
   "pygments_lexer": "ipython3",
   "version": "3.8.10"
  },
  "toc": {
   "base_numbering": 1,
   "nav_menu": {},
   "number_sections": true,
   "sideBar": true,
   "skip_h1_title": false,
   "title_cell": "Table of Contents",
   "title_sidebar": "Contents",
   "toc_cell": false,
   "toc_position": {},
   "toc_section_display": true,
   "toc_window_display": false
  }
 },
 "nbformat": 4,
 "nbformat_minor": 4
}
